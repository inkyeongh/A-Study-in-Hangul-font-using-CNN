{
 "cells": [
  {
   "cell_type": "markdown",
   "metadata": {},
   "source": [
    "### 데이터 소개 이미지 \n",
    "#### \"가\"\n",
    "- 학습 데이터 : \n",
    "    1. 6개 서체(함초롬바탕, 한컴바탕, 한양해서, 함초롬돋움, 한컴돋움, 맑은고딕)\n",
    "    1. 함초롬바탕 서체\n",
    "        1. 회전\n",
    "        1. 위치 \n",
    "- 테스트 데이터 : \n",
    "    1. test2 : \n",
    "        1. 4개 서체(나눔바른고딕, 나눔고딕, 휴먼명조, 나눔명조)\n",
    "        1. 나눔바른고딕 서체 - 회전\n",
    "    1. test3 :\n",
    "        1. 4개 서체(굴림, 돋움, 바탕, 궁서)\n",
    "        1. 굴림 - 위치"
   ]
  },
  {
   "cell_type": "code",
   "execution_count": 1,
   "metadata": {
    "collapsed": true
   },
   "outputs": [],
   "source": [
    "import numpy as np\n",
    "import matplotlib.pyplot as plt\n",
    "# 문자 데이터 생성 필요 함수\n",
    "from generate_function import *"
   ]
  },
  {
   "cell_type": "markdown",
   "metadata": {},
   "source": [
    "### 학습 데이터"
   ]
  },
  {
   "cell_type": "code",
   "execution_count": 2,
   "metadata": {
    "collapsed": true
   },
   "outputs": [],
   "source": [
    "# 학습 데이터\n",
    "fonts    = ['HANBatang', 'HBATANG', 'UNI_HSR', 'HANDotum', 'HDOTUM', 'malgun']\n",
    "use_chars= [\"가\"]\n",
    "angles   = [0]\n",
    "location = [\"c\"]\n",
    "point    = [80]\n",
    "size     = 100"
   ]
  },
  {
   "cell_type": "code",
   "execution_count": 3,
   "metadata": {
    "collapsed": true
   },
   "outputs": [],
   "source": [
    "tune_inputs = [(f, l, a, p, c) \n",
    "               for f in fonts\n",
    "               for l in location\n",
    "               for a in angles\n",
    "               for p in point\n",
    "               for c in use_chars]\n",
    "\n",
    "trainset = np.zeros((len(use_chars)*len(fonts)*len(location)*\n",
    "                     len(point)*len(angles), 1, size, size), dtype=np.uint8)\n",
    "\n",
    "for idx, tune_input in enumerate(tune_inputs):\n",
    "    f, l, a, p, c = tune_input\n",
    "    Z = face2array(f, l, a, p, c, size)\n",
    "    trainset[idx,:] = Z"
   ]
  },
  {
   "cell_type": "code",
   "execution_count": 4,
   "metadata": {},
   "outputs": [
    {
     "data": {
      "image/png": "[encoded data removed]",
      "text/plain": [
       "<Figure size 576x576 with 6 Axes>"
      ]
     },
     "metadata": {},
     "output_type": "display_data"
    }
   ],
   "source": [
    "length = len(fonts)\n",
    "plt.figure(figsize=(8,8))\n",
    "\n",
    "for idx in range(0, length):\n",
    "    char_show(trainset, length, idx)\n",
    "plt.show()"
   ]
  },
  {
   "cell_type": "code",
   "execution_count": 5,
   "metadata": {
    "collapsed": true
   },
   "outputs": [],
   "source": [
    "# 학습 데이터 : 회전\n",
    "fonts    = ['HANBatang']\n",
    "use_chars= [\"가\"]\n",
    "angles   = [-30, 0, 30]\n",
    "location = [\"c\"]\n",
    "point    = [80]\n",
    "size     = 100"
   ]
  },
  {
   "cell_type": "code",
   "execution_count": 6,
   "metadata": {
    "collapsed": true
   },
   "outputs": [],
   "source": [
    "tune_inputs = [(f, l, a, p, c) \n",
    "               for f in fonts\n",
    "               for l in location\n",
    "               for a in angles\n",
    "               for p in point\n",
    "               for c in use_chars]\n",
    "\n",
    "trainset = np.zeros((len(use_chars)*len(fonts)*len(location)*\n",
    "                     len(point)*len(angles), 1, size, size), dtype=np.uint8)\n",
    "\n",
    "for idx, tune_input in enumerate(tune_inputs):\n",
    "    f, l, a, p, c = tune_input\n",
    "    Z = face2array(f, l, a, p, c, size)\n",
    "    trainset[idx,:] = Z"
   ]
  },
  {
   "cell_type": "code",
   "execution_count": 7,
   "metadata": {},
   "outputs": [
    {
     "data": {
      "image/png": "[encoded data removed]",
      "text/plain": [
       "<Figure size 576x576 with 3 Axes>"
      ]
     },
     "metadata": {},
     "output_type": "display_data"
    }
   ],
   "source": [
    "length = len(angles)\n",
    "plt.figure(figsize=(8,8))\n",
    "\n",
    "for idx in range(0, length):\n",
    "    char_show(trainset, length, idx)\n",
    "plt.show()"
   ]
  },
  {
   "cell_type": "code",
   "execution_count": 8,
   "metadata": {
    "collapsed": true
   },
   "outputs": [],
   "source": [
    "# 학습 데이터 : 위치\n",
    "fonts    = ['HANBatang']\n",
    "use_chars= [\"가\"]\n",
    "angles   = [0]\n",
    "location = ['c','l','r','b','t','l2','r2']\n",
    "point    = [80]\n",
    "size     = 100"
   ]
  },
  {
   "cell_type": "code",
   "execution_count": 9,
   "metadata": {
    "collapsed": true
   },
   "outputs": [],
   "source": [
    "tune_inputs = [(f, l, a, p, c) \n",
    "               for f in fonts\n",
    "               for l in location\n",
    "               for a in angles\n",
    "               for p in point\n",
    "               for c in use_chars]\n",
    "\n",
    "trainset = np.zeros((len(use_chars)*len(fonts)*len(location)*\n",
    "                     len(point)*len(angles), 1, size, size), dtype=np.uint8)\n",
    "\n",
    "for idx, tune_input in enumerate(tune_inputs):\n",
    "    f, l, a, p, c = tune_input\n",
    "    Z = face2array(f, l, a, p, c, size)\n",
    "    trainset[idx,:] = Z"
   ]
  },
  {
   "cell_type": "code",
   "execution_count": 10,
   "metadata": {},
   "outputs": [
    {
     "data": {
      "image/png": "[encoded data removed]",
      "text/plain": [
       "<Figure size 576x576 with 7 Axes>"
      ]
     },
     "metadata": {},
     "output_type": "display_data"
    }
   ],
   "source": [
    "length = len(location)\n",
    "plt.figure(figsize=(8,8))\n",
    "\n",
    "for idx in range(0, length):\n",
    "    char_show(trainset, length, idx)\n",
    "plt.show()"
   ]
  },
  {
   "cell_type": "code",
   "execution_count": null,
   "metadata": {
    "collapsed": true
   },
   "outputs": [],
   "source": []
  },
  {
   "cell_type": "markdown",
   "metadata": {
    "collapsed": true
   },
   "source": [
    "### 테스트 데이터2"
   ]
  },
  {
   "cell_type": "code",
   "execution_count": 11,
   "metadata": {
    "collapsed": true
   },
   "outputs": [],
   "source": [
    "# 테스트 데이터 2\n",
    "fonts    = ['NanumBarunGothic', 'NanumGothic', 'HMKMM', 'NanumMyeongjo']\n",
    "use_chars= [\"가\"]\n",
    "angles   = [0]\n",
    "location = [\"c\"]\n",
    "point    = [80]\n",
    "size     = 100"
   ]
  },
  {
   "cell_type": "code",
   "execution_count": 12,
   "metadata": {
    "collapsed": true
   },
   "outputs": [],
   "source": [
    "tune_inputs = [(f, l, a, p, c) \n",
    "               for f in fonts\n",
    "               for l in location\n",
    "               for a in angles\n",
    "               for p in point\n",
    "               for c in use_chars]\n",
    "\n",
    "testset2 =np.zeros((len(use_chars)*len(fonts)*len(location)*\n",
    "                     len(point)*len(angles), 1, size, size), dtype=np.uint8)\n",
    "\n",
    "for idx, tune_input in enumerate(tune_inputs):\n",
    "    f, l, a, p, c = tune_input\n",
    "    Z = face2array(f, l, a, p, c, size)\n",
    "    testset2[idx,:] = Z"
   ]
  },
  {
   "cell_type": "code",
   "execution_count": 13,
   "metadata": {},
   "outputs": [
    {
     "data": {
      "image/png": "[encoded data removed]",
      "text/plain": [
       "<Figure size 576x576 with 4 Axes>"
      ]
     },
     "metadata": {},
     "output_type": "display_data"
    }
   ],
   "source": [
    "length = len(fonts)\n",
    "plt.figure(figsize=(8,8))\n",
    "\n",
    "for idx in range(0, length):\n",
    "    char_show(testset2, length, idx)\n",
    "plt.show()"
   ]
  },
  {
   "cell_type": "code",
   "execution_count": 14,
   "metadata": {
    "collapsed": true
   },
   "outputs": [],
   "source": [
    "# 테스트 데이터 2 : 회전\n",
    "fonts    = ['NanumBarunGothic']\n",
    "use_chars= [\"가\"]\n",
    "angles   = [-15, 0, 15]\n",
    "location = [\"c\"]\n",
    "point    = [80]\n",
    "size     = 100"
   ]
  },
  {
   "cell_type": "code",
   "execution_count": 15,
   "metadata": {
    "collapsed": true
   },
   "outputs": [],
   "source": [
    "tune_inputs = [(f, l, a, p, c) \n",
    "               for f in fonts\n",
    "               for l in location\n",
    "               for a in angles\n",
    "               for p in point\n",
    "               for c in use_chars]\n",
    "\n",
    "testset2 = np.zeros((len(use_chars)*len(fonts)*len(location)*\n",
    "                     len(point)*len(angles), 1, size, size), dtype=np.uint8)\n",
    "\n",
    "for idx, tune_input in enumerate(tune_inputs):\n",
    "    f, l, a, p, c = tune_input\n",
    "    Z = face2array(f, l, a, p, c, size)\n",
    "    testset2[idx,:] = Z"
   ]
  },
  {
   "cell_type": "code",
   "execution_count": 16,
   "metadata": {},
   "outputs": [
    {
     "data": {
      "image/png": "[encoded data removed]",
      "text/plain": [
       "<Figure size 576x576 with 3 Axes>"
      ]
     },
     "metadata": {},
     "output_type": "display_data"
    }
   ],
   "source": [
    "length = len(angles)\n",
    "plt.figure(figsize=(8,8))\n",
    "\n",
    "for idx in range(0, length):\n",
    "    char_show(testset2, length, idx)\n",
    "plt.show()"
   ]
  },
  {
   "cell_type": "markdown",
   "metadata": {},
   "source": [
    "### 테스트 데이터3"
   ]
  },
  {
   "cell_type": "code",
   "execution_count": 17,
   "metadata": {
    "collapsed": true
   },
   "outputs": [],
   "source": [
    "# 테스트 데이터 3\n",
    "fonts    = ['gulim', 'dotum', 'batang', 'HYGSRB']\n",
    "use_chars= [\"가\"]\n",
    "angles   = [0]\n",
    "location = [\"c\"]\n",
    "point    = [80]\n",
    "size     = 100"
   ]
  },
  {
   "cell_type": "code",
   "execution_count": 18,
   "metadata": {
    "collapsed": true
   },
   "outputs": [],
   "source": [
    "tune_inputs = [(f, l, a, p, c) \n",
    "               for f in fonts\n",
    "               for l in location\n",
    "               for a in angles\n",
    "               for p in point\n",
    "               for c in use_chars]\n",
    "\n",
    "testset3 =np.zeros((len(use_chars)*len(fonts)*len(location)*\n",
    "                     len(point)*len(angles), 1, size, size), dtype=np.uint8)\n",
    "\n",
    "for idx, tune_input in enumerate(tune_inputs):\n",
    "    f, l, a, p, c = tune_input\n",
    "    Z = face2array(f, l, a, p, c, size)\n",
    "    testset3[idx,:] = Z"
   ]
  },
  {
   "cell_type": "code",
   "execution_count": 19,
   "metadata": {},
   "outputs": [
    {
     "data": {
      "image/png": "[encoded data removed]",
      "text/plain": [
       "<Figure size 576x576 with 4 Axes>"
      ]
     },
     "metadata": {},
     "output_type": "display_data"
    }
   ],
   "source": [
    "length = len(fonts)\n",
    "plt.figure(figsize=(8,8))\n",
    "\n",
    "for idx in range(0, length):\n",
    "    char_show(testset3, length, idx)\n",
    "plt.show()"
   ]
  },
  {
   "cell_type": "code",
   "execution_count": 20,
   "metadata": {
    "collapsed": true
   },
   "outputs": [],
   "source": [
    "# 학습 데이터 : 위치\n",
    "fonts    = ['gulim']\n",
    "use_chars= [\"가\"]\n",
    "angles   = [0]\n",
    "location = ['c','l','r','b','t','l2','r2']\n",
    "point    = [80]\n",
    "size     = 100"
   ]
  },
  {
   "cell_type": "code",
   "execution_count": 21,
   "metadata": {
    "collapsed": true
   },
   "outputs": [],
   "source": [
    "tune_inputs = [(f, l, a, p, c) \n",
    "               for f in fonts\n",
    "               for l in location\n",
    "               for a in angles\n",
    "               for p in point\n",
    "               for c in use_chars]\n",
    "\n",
    "testset3 = np.zeros((len(use_chars)*len(fonts)*len(location)*\n",
    "                     len(point)*len(angles), 1, size, size), dtype=np.uint8)\n",
    "\n",
    "for idx, tune_input in enumerate(tune_inputs):\n",
    "    f, l, a, p, c = tune_input\n",
    "    Z = face2array(f, l, a, p, c, size)\n",
    "    testset3[idx,:] = Z"
   ]
  },
  {
   "cell_type": "code",
   "execution_count": 22,
   "metadata": {},
   "outputs": [
    {
     "data": {
      "image/png": "[encoded data removed]",
      "text/plain": [
       "<Figure size 576x576 with 7 Axes>"
      ]
     },
     "metadata": {},
     "output_type": "display_data"
    }
   ],
   "source": [
    "length = len(location)\n",
    "plt.figure(figsize=(8,8))\n",
    "\n",
    "for idx in range(0, length):\n",
    "    char_show(testset3, length, idx)\n",
    "plt.show()"
   ]
  }
 ],
 "metadata": {
  "anaconda-cloud": {},
  "kernelspec": {
   "display_name": "Python 3",
   "language": "python",
   "name": "python3"
  },
  "language_info": {
   "codemirror_mode": {
    "name": "ipython",
    "version": 3
   },
   "file_extension": ".py",
   "mimetype": "text/x-python",
   "name": "python",
   "nbconvert_exporter": "python",
   "pygments_lexer": "ipython3",
   "version": "3.6.1"
  }
 },
 "nbformat": 4,
 "nbformat_minor": 2
}
