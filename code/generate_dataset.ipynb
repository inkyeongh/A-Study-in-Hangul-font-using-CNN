{
 "cells": [
  {
   "cell_type": "code",
   "execution_count": null,
   "metadata": {
    "collapsed": true
   },
   "outputs": [],
   "source": [
    "#hangul dataset\n",
    "from PIL import Image\n",
    "import numpy as np\n",
    "import pandas as pd\n",
    "\n",
    "from generate_function import *"
   ]
  },
  {
   "cell_type": "markdown",
   "metadata": {
    "collapsed": true
   },
   "source": [
    "### 자주 쓰이는 한글 낱말"
   ]
  },
  {
   "cell_type": "code",
   "execution_count": null,
   "metadata": {},
   "outputs": [],
   "source": [
    "df = pd.read_csv('data/commonly_used_hangul.csv', engine='python')\n",
    "use_chars = list(set(''.join(df.낱말)))\n",
    "# sort list use_char\n",
    "use_chars.sort()\n",
    "print(len(use_chars))"
   ]
  },
  {
   "cell_type": "markdown",
   "metadata": {},
   "source": [
    "### 학습 데이터 만들기"
   ]
  },
  {
   "cell_type": "code",
   "execution_count": null,
   "metadata": {
    "collapsed": true
   },
   "outputs": [],
   "source": [
    "# 글자의 변형\n",
    "# 서체 이름\n",
    "fonts = ['HANBatang', 'HBATANG', 'UNI_HSR', 'HANDotum', 'HDOTUM', 'malgun']\n",
    "# 위치\n",
    "location = ['c','l','r','b','t','l2','r2']\n",
    "# 크기\n",
    "point =  list(range(80,81))\n",
    "# 회전\n",
    "angles = [-30, 0, 30]\n",
    "# 이미지 사이즈\n",
    "size = 100"
   ]
  },
  {
   "cell_type": "code",
   "execution_count": null,
   "metadata": {
    "collapsed": true
   },
   "outputs": [],
   "source": [
    "tune_inputs = [(f, l, a, p, c) \n",
    "               for f in fonts\n",
    "               for l in location\n",
    "               for a in angles\n",
    "               for p in point\n",
    "               for c in use_chars]"
   ]
  },
  {
   "cell_type": "code",
   "execution_count": null,
   "metadata": {},
   "outputs": [],
   "source": [
    "data_X    = np.zeros((len(tune_inputs), 1, size, size), dtype=np.uint8)\n",
    "data_Y    = np.zeros((len(tune_inputs), 1), dtype=np.uint8)\n",
    "data_info = np.zeros((len(tune_inputs), 3), dtype=np.uint8)\n",
    "print(data_X.shape, data_Y.shape, data_info.shape)"
   ]
  },
  {
   "cell_type": "code",
   "execution_count": null,
   "metadata": {},
   "outputs": [],
   "source": [
    "# 데이터셋 만들기\n",
    "for idx, tune_input in enumerate(tune_inputs):\n",
    "    f, l, a, p, c = tune_input\n",
    "    Z = face2array(f, l, a, p, c, size)\n",
    "    # Z scale to 0~1\n",
    "    data_X[idx,:]     = Z/np.float32(255.0)\n",
    "    data_Y[idx,:]     = seri_sansserif(f)\n",
    "    data_info[idx, :] = hangul2info(c)"
   ]
  },
  {
   "cell_type": "code",
   "execution_count": null,
   "metadata": {
    "collapsed": true
   },
   "outputs": [],
   "source": [
    "# 데이터 저장\n",
    "Dataset = {'dataX'   : data_X,\n",
    "           'dataY'   : data_Y,\n",
    "           'datainfo': data_info}\n",
    "save_dataset(folder='data', typ='train', data=Dataset)"
   ]
  },
  {
   "cell_type": "markdown",
   "metadata": {},
   "source": [
    "### 테스트 데이터"
   ]
  },
  {
   "cell_type": "code",
   "execution_count": null,
   "metadata": {
    "collapsed": true
   },
   "outputs": [],
   "source": [
    "# 전체 문자\n",
    "cho_lst   = list(range(0,19))\n",
    "jung_lst = list(range(0,21))\n",
    "jong_lst  = list(range(0,28))\n",
    "\n",
    "hanguls = [44032 + (c * 588) + (j1 * 28) + j2\n",
    "          for c in cho_lst\n",
    "          for j1 in jung_lst\n",
    "          for j2 in jong_lst]"
   ]
  },
  {
   "cell_type": "code",
   "execution_count": null,
   "metadata": {
    "collapsed": true
   },
   "outputs": [],
   "source": [
    "# 사용한 문자의 유니코드\n",
    "use_hanguls = []\n",
    "for c in use_chars:\n",
    "    cho, jung, jong = hangul2info(c)\n",
    "    use_hanguls.append(44032 + (cho * 588) + (jung * 28) + jong)"
   ]
  },
  {
   "cell_type": "code",
   "execution_count": null,
   "metadata": {
    "collapsed": true
   },
   "outputs": [],
   "source": [
    "# 학습하지 않은 문자\n",
    "not_use_chars = list(set(hanguls).difference(set(use_hanguls)))"
   ]
  },
  {
   "cell_type": "markdown",
   "metadata": {},
   "source": [
    "### 테스트 1"
   ]
  },
  {
   "cell_type": "code",
   "execution_count": null,
   "metadata": {
    "collapsed": true
   },
   "outputs": [],
   "source": [
    "# 글자의 변형\n",
    "# 서체 이름\n",
    "fonts = ['HANDotum', 'HDOTUM', 'malgun', 'HANBatang', 'HBATANG', 'UNI_HSR']\n",
    "# 위치\n",
    "location = ['c','l','r','b','t','l2','r2']\n",
    "# 크기\n",
    "point =  list(range(80,81))\n",
    "# 회전\n",
    "angles = [-30, 0, 30]\n",
    "# 이미지 사이즈\n",
    "size = 100"
   ]
  },
  {
   "cell_type": "code",
   "execution_count": null,
   "metadata": {
    "collapsed": true
   },
   "outputs": [],
   "source": [
    "tune_inputs = [(f, l, a, p, c) \n",
    "               for f in fonts\n",
    "               for l in location\n",
    "               for a in angles\n",
    "               for p in point\n",
    "               for c in not_use_chars]"
   ]
  },
  {
   "cell_type": "code",
   "execution_count": null,
   "metadata": {
    "collapsed": true
   },
   "outputs": [],
   "source": [
    "np.random.seed(2019)\n",
    "sel_idx = np.random.choice(range(len(tune_inputs)), 30000)\n",
    "tune_inputs = [tune_inputs[i] for i in sel_idx]"
   ]
  },
  {
   "cell_type": "code",
   "execution_count": null,
   "metadata": {},
   "outputs": [],
   "source": [
    "data_X    = np.zeros((len(tune_inputs), 1, size, size), dtype=np.uint8)\n",
    "data_Y    = np.zeros((len(tune_inputs), 1), dtype=np.uint8)\n",
    "data_info = np.zeros((len(tune_inputs), 3), dtype=np.uint8)\n",
    "print(data_X.shape, data_Y.shape, data_info.shape)"
   ]
  },
  {
   "cell_type": "code",
   "execution_count": null,
   "metadata": {
    "collapsed": true
   },
   "outputs": [],
   "source": [
    "# 데이터셋 만들기\n",
    "for idx, tune_input in enumerate(tune_inputs):\n",
    "    f, l, a, p, c = tune_input\n",
    "    Z = face2array(f, l, a, p, c, size)\n",
    "    # Z scale to 0~1\n",
    "    data_X[idx,:]     = Z/np.float32(255.0)\n",
    "    data_Y[idx,:]     = seri_sansserif(f)\n",
    "    data_info[idx, :] = hangul2info(c)"
   ]
  },
  {
   "cell_type": "code",
   "execution_count": null,
   "metadata": {},
   "outputs": [],
   "source": [
    "# 데이터 저장\n",
    "Dataset = {'dataX'   : data_X,\n",
    "           'dataY'   : data_Y,\n",
    "           'datainfo': data_info}\n",
    "save_dataset(folder='data', typ='test1', data=Dataset)"
   ]
  },
  {
   "cell_type": "code",
   "execution_count": null,
   "metadata": {
    "collapsed": true
   },
   "outputs": [],
   "source": []
  },
  {
   "cell_type": "markdown",
   "metadata": {},
   "source": [
    "### 테스트 2"
   ]
  },
  {
   "cell_type": "code",
   "execution_count": null,
   "metadata": {
    "collapsed": true
   },
   "outputs": [],
   "source": [
    "# 글자의 변형\n",
    "# 서체 이름\n",
    "fonts = ['NanumBarunGothic', 'NanumGothic', 'HMKMM', 'NanumMyeongjo']\n",
    "# 위치\n",
    "location = ['c','l','r','b','t','l2','r2']\n",
    "# 크기\n",
    "point =  list(range(80,81))\n",
    "# 회전\n",
    "angles = [-30, 0, 30]\n",
    "# 이미지 사이즈\n",
    "size = 100"
   ]
  },
  {
   "cell_type": "code",
   "execution_count": null,
   "metadata": {
    "collapsed": true
   },
   "outputs": [],
   "source": [
    "tune_inputs = [(f, l, a, p, c) \n",
    "               for f in fonts\n",
    "               for l in location\n",
    "               for a in angles\n",
    "               for p in point\n",
    "               for c in not_use_chars]"
   ]
  },
  {
   "cell_type": "code",
   "execution_count": null,
   "metadata": {
    "collapsed": true
   },
   "outputs": [],
   "source": [
    "np.random.seed(2019)\n",
    "sel_idx = np.random.choice(range(len(tune_inputs)), 30000)\n",
    "tune_inputs = [tune_inputs[i] for i in sel_idx]"
   ]
  },
  {
   "cell_type": "code",
   "execution_count": null,
   "metadata": {},
   "outputs": [],
   "source": [
    "data_X    = np.zeros((len(tune_inputs), 1, size, size), dtype=np.uint8)\n",
    "data_Y    = np.zeros((len(tune_inputs), 1), dtype=np.uint8)\n",
    "data_info = np.zeros((len(tune_inputs), 3), dtype=np.uint8)\n",
    "print(data_X.shape, data_Y.shape, data_info.shape)"
   ]
  },
  {
   "cell_type": "code",
   "execution_count": null,
   "metadata": {
    "collapsed": true
   },
   "outputs": [],
   "source": [
    "# 데이터셋 만들기\n",
    "for idx, tune_input in enumerate(tune_inputs):\n",
    "    f, l, a, p, c = tune_input\n",
    "    Z = face2array(f, l, a, p, c, size)\n",
    "    # Z scale to 0~1\n",
    "    data_X[idx,:]     = Z/np.float32(255.0)\n",
    "    data_Y[idx,:]     = seri_sansserif(f)\n",
    "    data_info[idx, :] = hangul2info(c)"
   ]
  },
  {
   "cell_type": "code",
   "execution_count": null,
   "metadata": {},
   "outputs": [],
   "source": [
    "# 데이터 저장\n",
    "Dataset = {'dataX'   : data_X,\n",
    "           'dataY'   : data_Y,\n",
    "           'datainfo': data_info}\n",
    "save_dataset(folder='data', typ='test2', data=Dataset)"
   ]
  },
  {
   "cell_type": "code",
   "execution_count": null,
   "metadata": {
    "collapsed": true
   },
   "outputs": [],
   "source": []
  },
  {
   "cell_type": "markdown",
   "metadata": {},
   "source": [
    "### 테스트 3"
   ]
  },
  {
   "cell_type": "code",
   "execution_count": null,
   "metadata": {
    "collapsed": true
   },
   "outputs": [],
   "source": [
    "# 글자의 변형\n",
    "# 서체 이름\n",
    "fonts = ['gulim', 'dotum', 'batang', 'HYGSRB']\n",
    "# 위치\n",
    "location = ['c','l','r','b','t','l2','r2']\n",
    "# 크기\n",
    "point =  list(range(80,81))\n",
    "# 회전\n",
    "angles = [-30, 0, 30]\n",
    "# 이미지 사이즈\n",
    "size = 100"
   ]
  },
  {
   "cell_type": "code",
   "execution_count": null,
   "metadata": {
    "collapsed": true
   },
   "outputs": [],
   "source": [
    "tune_inputs = [(f, l, a, p, c) \n",
    "               for f in fonts\n",
    "               for l in location\n",
    "               for a in angles\n",
    "               for p in point\n",
    "               for c in not_use_chars]"
   ]
  },
  {
   "cell_type": "code",
   "execution_count": null,
   "metadata": {
    "collapsed": true
   },
   "outputs": [],
   "source": [
    "np.random.seed(2019)\n",
    "sel_idx = np.random.choice(range(len(tune_inputs)), 30000)\n",
    "tune_inputs = [tune_inputs[i] for i in sel_idx]"
   ]
  },
  {
   "cell_type": "code",
   "execution_count": null,
   "metadata": {
    "scrolled": true
   },
   "outputs": [],
   "source": [
    "data_X    = np.zeros((len(tune_inputs), 1, size, size), dtype=np.uint8)\n",
    "data_Y    = np.zeros((len(tune_inputs), 1), dtype=np.uint8)\n",
    "data_info = np.zeros((len(tune_inputs), 3), dtype=np.uint8)\n",
    "print(data_X.shape, data_Y.shape, data_info.shape)"
   ]
  },
  {
   "cell_type": "code",
   "execution_count": null,
   "metadata": {
    "collapsed": true
   },
   "outputs": [],
   "source": [
    "# 데이터셋 만들기\n",
    "for idx, tune_input in enumerate(tune_inputs):\n",
    "    f, l, a, p, c = tune_input\n",
    "    Z = face2array(f, l, a, p, c, size)\n",
    "    # Z scale to 0~1\n",
    "    data_X[idx,:]     = Z/np.float32(255.0)\n",
    "    data_Y[idx,:]     = seri_sansserif(f)\n",
    "    data_info[idx, :] = hangul2info(c)"
   ]
  },
  {
   "cell_type": "code",
   "execution_count": null,
   "metadata": {},
   "outputs": [],
   "source": [
    "# 데이터 저장\n",
    "Dataset = {'dataX'   : data_X,\n",
    "           'dataY'   : data_Y,\n",
    "           'datainfo': data_info}\n",
    "save_dataset(folder='data', typ='test3', data=Dataset)"
   ]
  }
 ],
 "metadata": {
  "kernelspec": {
   "display_name": "Python 3",
   "language": "python",
   "name": "python3"
  },
  "language_info": {
   "codemirror_mode": {
    "name": "ipython",
    "version": 3
   },
   "file_extension": ".py",
   "mimetype": "text/x-python",
   "name": "python",
   "nbconvert_exporter": "python",
   "pygments_lexer": "ipython3",
   "version": "3.6.1"
  }
 },
 "nbformat": 4,
 "nbformat_minor": 2
}
